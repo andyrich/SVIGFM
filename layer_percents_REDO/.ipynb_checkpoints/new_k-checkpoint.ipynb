{
 "cells": [
  {
   "cell_type": "code",
   "execution_count": 164,
   "metadata": {
    "collapsed": true
   },
   "outputs": [],
   "source": [
    "import numpy as np\n",
    "import sys as sys\n",
    "import os as os"
   ]
  },
  {
   "cell_type": "code",
   "execution_count": 165,
   "metadata": {
    "collapsed": false
   },
   "outputs": [
    {
     "name": "stdout",
     "output_type": "stream",
     "text": [
      "\n",
      "\n",
      "\n",
      "Running the k-lithology calculation script.\n",
      "\n",
      "\n"
     ]
    }
   ],
   "source": [
    "print \"\\n\\n\\nRunning the k-lithology calculation script.\\n\\n\""
   ]
  },
  {
   "cell_type": "code",
   "execution_count": 166,
   "metadata": {
    "collapsed": false
   },
   "outputs": [
    {
     "name": "stdout",
     "output_type": "stream",
     "text": [
      "\tOld HK And VK files removed\n"
     ]
    }
   ],
   "source": [
    "vals = cors = np.loadtxt('k_interp.csv',delimiter = ',',skiprows = 1)\n",
    "\n",
    "for layer in [1,3,4,5,6]:\n",
    "    try:\n",
    "        os.remove('Vk_'+str(int(layer))+'.csv')\n",
    "        os.remove('Hk_'+str(int(layer))+'.csv')\n",
    "    except:\n",
    "        pass\n",
    "print \"\\tOld HK And VK files removed\""
   ]
  },
  {
   "cell_type": "code",
   "execution_count": 167,
   "metadata": {
    "collapsed": false
   },
   "outputs": [
    {
     "name": "stdout",
     "output_type": "stream",
     "text": [
      "LAYER ___1___ \n",
      "\n",
      " \t-1.0 = p\n",
      " \t100.0 = cor_m\n",
      " \t10.0 = volc_m\n",
      " \t0.001 = mix_m\n",
      "\n",
      "\tsum of horizontal k CELL's greater than zero 3650\n",
      "\tsum of VERTICAL k CELL's greater than zero 3650\n",
      "\n",
      "\tDone Calculating and Exporting Layer 1 in Lith Estimation Model\n",
      "\n",
      "LAYER ___3___ \n",
      "\n",
      " \t-1.0 = p\n",
      " \t100.0 = cor_m\n",
      " \t10.0 = volc_m\n",
      " \t0.001 = mix_m\n",
      "\n",
      "\tsum of horizontal k CELL's greater than zero 3650\n",
      "\tsum of VERTICAL k CELL's greater than zero 3650\n",
      "\n",
      "\tDone Calculating and Exporting Layer 3 in Lith Estimation Model\n",
      "\n",
      "LAYER ___4___ \n",
      "\n",
      " \t-1.0 = p\n",
      " \t100.0 = cor_m\n",
      " \t10.0 = volc_m\n",
      " \t0.001 = mix_m\n",
      "\n",
      "\tsum of horizontal k CELL's greater than zero 3650\n",
      "\tsum of VERTICAL k CELL's greater than zero 3650\n",
      "\n",
      "\tDone Calculating and Exporting Layer 4 in Lith Estimation Model\n",
      "\n",
      "LAYER ___5___ \n",
      "\n",
      " \t-1.0 = p\n",
      " \t100.0 = cor_m\n",
      " \t10.0 = volc_m\n",
      " \t0.001 = mix_m\n",
      "\n",
      "\tsum of horizontal k CELL's greater than zero 3650\n",
      "\tsum of VERTICAL k CELL's greater than zero 3650\n",
      "\n",
      "\tDone Calculating and Exporting Layer 5 in Lith Estimation Model\n",
      "\n",
      "LAYER ___6___ \n",
      "\n",
      " \t-1.0 = p\n",
      " \t100.0 = cor_m\n",
      " \t10.0 = volc_m\n",
      " \t0.001 = mix_m\n",
      "\n",
      "\tsum of horizontal k CELL's greater than zero 3650\n",
      "\tsum of VERTICAL k CELL's greater than zero 3650\n",
      "\n",
      "\tDone Calculating and Exporting Layer 6 in Lith Estimation Model\n",
      "\n",
      "\n",
      "\t Done with k-lithology calculation script\n"
     ]
    },
    {
     "name": "stderr",
     "output_type": "stream",
     "text": [
      "C:\\Anaconda\\lib\\site-packages\\IPython\\kernel\\__main__.py:39: RuntimeWarning: divide by zero encountered in power\n"
     ]
    }
   ],
   "source": [
    "for layer in [1,3,4,5,6]:\n",
    "    cors = np.loadtxt('lay'+str(int(layer))+'_p_cors.csv',delimiter = ',')\n",
    "    volc = np.loadtxt('lay'+str(int(layer))+'_p_volc.csv',delimiter = ',')\n",
    "    mix = np.loadtxt('lay'+str(int(layer))+'_p_mix.csv',delimiter = ',')\n",
    "    \n",
    "    p=vals[layer-1,1]\n",
    "    cor_m = vals[layer-1,2]\n",
    "    volc_m =vals[layer-1,3]\n",
    "    mix_m = vals[layer-1,4]\n",
    "    \n",
    "    print 'LAYER ___{:}___ \\n\\n \\t{:} = p\\n \\t{:} = cor_m\\n \\t{:} = volc_m\\n \\t{:} = mix_m\\n'.format(layer,p,cor_m, volc_m, mix_m)\n",
    "    \n",
    "\n",
    "    #filter values for zeros\n",
    "    def rem_zeros(vals):\n",
    "        c_ =(vals==0)\n",
    "        vals[c_] = 0.\n",
    "        return vals\n",
    "    cors = rem_zeros(cors)\n",
    "    volc = rem_zeros(volc)\n",
    "    mix = rem_zeros(mix)\n",
    "\n",
    "    def horz_k(cors,volc, mix, cor_m,volc_m, mix_m):\n",
    "    #     out = cors*cor_m+volc*volc_m+mix*mix_m\n",
    "        out = volc*volc_m+mix*mix_m+cors*cor_m\n",
    "        c_ = (out==0)\n",
    "        out[c_] = -999\n",
    "        print \"\\tsum of horizontal k CELL's greater than zero\", + np.sum(~c_)\n",
    "        return out\n",
    "\n",
    "    horz = horz_k(cors,volc, mix, cor_m,volc_m, mix_m)\n",
    "\n",
    "\n",
    "\n",
    "    def vert_k(p,cors,volc, mix, cor_m,volc_m, mix_m):\n",
    "        kv = (cors*np.power(cor_m,p)+ \n",
    "              volc*np.power(volc_m,p)+\n",
    "              mix*np.power(mix_m,p))\n",
    "        kv = np.power(kv,1./p)\n",
    "        c_ = (kv==np.inf)\n",
    "        print \"\\tsum of VERTICAL k CELL's greater than zero\", + np.sum(~c_)\n",
    "        kv[c_] = -999\n",
    "        return kv\n",
    "\n",
    "    vert = vert_k(p,cors,volc, mix, cor_m,volc_m, mix_m)\n",
    "\n",
    "    np.savetxt('Vk_'+str(int(layer))+'.csv',vert,fmt='%.5g',delimiter = ',')\n",
    "    np.savetxt('Hk_'+str(int(layer))+'.csv',horz,fmt='%.5g',delimiter = ',')\n",
    "    \n",
    "    print \"\\n\\tDone Calculating and Exporting Layer {:} in Lith Estimation Model\\n\".format(layer)\n",
    "print \"\\n\\t Done with k-lithology calculation script\""
   ]
  }
 ],
 "metadata": {
  "kernelspec": {
   "display_name": "Python 2",
   "language": "python",
   "name": "python2"
  },
  "language_info": {
   "codemirror_mode": {
    "name": "ipython",
    "version": 2
   },
   "file_extension": ".py",
   "mimetype": "text/x-python",
   "name": "python",
   "nbconvert_exporter": "python",
   "pygments_lexer": "ipython2",
   "version": "2.7.11"
  }
 },
 "nbformat": 4,
 "nbformat_minor": 0
}
